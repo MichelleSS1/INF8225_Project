{
  "metadata": {
    "kernelspec": {
      "language": "python",
      "display_name": "Python 3",
      "name": "python3"
    },
    "language_info": {
      "pygments_lexer": "ipython3",
      "nbconvert_exporter": "python",
      "version": "3.6.4",
      "file_extension": ".py",
      "codemirror_mode": {
        "name": "ipython",
        "version": 3
      },
      "name": "python",
      "mimetype": "text/x-python"
    },
    "colab": {
      "name": "sentiment-analysis-using-lstm-pytorch.ipynb",
      "provenance": [],
      "collapsed_sections": [],
      "machine_shape": "hm"
    },
    "accelerator": "GPU"
  },
  "nbformat_minor": 0,
  "nbformat": 4,
  "cells": [
    {
      "cell_type": "code",
      "source": [
        "import numpy as np\n",
        "import pandas as pd # data processing, CSV file I/O (e.g. pd.read_csv)\n",
        "import torch\n",
        "import torch.nn as nn\n",
        "import torch.nn.functional as F\n",
        "import nltk\n",
        "from nltk.corpus import stopwords \n",
        "from collections import Counter\n",
        "import string\n",
        "import re\n",
        "import seaborn as sns\n",
        "from tqdm import tqdm\n",
        "import matplotlib.pyplot as plt\n",
        "from torch.utils.data import TensorDataset, DataLoader\n",
        "from sklearn.model_selection import train_test_split\n",
        "from sklearn.metrics import classification_report"
      ],
      "metadata": {
        "_uuid": "8f2839f25d086af736a60e9eeb907d3b93b6e0e5",
        "_cell_guid": "b1076dfc-b9ad-4769-8c92-a6c4dae69d19",
        "execution": {
          "iopub.status.busy": "2021-12-21T20:14:49.964977Z",
          "iopub.execute_input": "2021-12-21T20:14:49.965524Z",
          "iopub.status.idle": "2021-12-21T20:14:52.909681Z",
          "shell.execute_reply.started": "2021-12-21T20:14:49.965413Z",
          "shell.execute_reply": "2021-12-21T20:14:52.908808Z"
        },
        "trusted": true,
        "id": "wQ_ttJepEW-9"
      },
      "execution_count": null,
      "outputs": []
    },
    {
      "cell_type": "code",
      "source": [
        "is_cuda = torch.cuda.is_available()\n",
        "\n",
        "# If we have a GPU available, we'll set our device to GPU. We'll use this device variable later in our code.\n",
        "if is_cuda:\n",
        "    device = torch.device('cuda')\n",
        "    \n",
        "else:\n",
        "    device = torch.device('cpu')\n",
        "    print(\"GPU not available, CPU used\")\n",
        "\n",
        "nltk.download('stopwords')"
      ],
      "metadata": {
        "execution": {
          "iopub.status.busy": "2021-12-21T20:14:52.914358Z",
          "iopub.execute_input": "2021-12-21T20:14:52.914677Z",
          "iopub.status.idle": "2021-12-21T20:14:52.971504Z",
          "shell.execute_reply.started": "2021-12-21T20:14:52.914641Z",
          "shell.execute_reply": "2021-12-21T20:14:52.970809Z"
        },
        "trusted": true,
        "colab": {
          "base_uri": "https://localhost:8080/"
        },
        "id": "oxfcQ4YNEW_D",
        "outputId": "baabbc3b-154c-404a-d002-1e298428daf4"
      },
      "execution_count": null,
      "outputs": [
        {
          "output_type": "stream",
          "name": "stdout",
          "text": [
            "[nltk_data] Downloading package stopwords to /root/nltk_data...\n",
            "[nltk_data]   Unzipping corpora/stopwords.zip.\n"
          ]
        },
        {
          "output_type": "execute_result",
          "data": {
            "text/plain": [
              "True"
            ]
          },
          "metadata": {},
          "execution_count": 2
        }
      ]
    },
    {
      "cell_type": "code",
      "source": [
        "base_csv = 'IMDB Dataset.csv'\n",
        "df = pd.read_csv(base_csv)\n",
        "df.head()"
      ],
      "metadata": {
        "execution": {
          "iopub.status.busy": "2021-12-21T20:14:52.975671Z",
          "iopub.execute_input": "2021-12-21T20:14:52.977817Z",
          "iopub.status.idle": "2021-12-21T20:14:54.728371Z",
          "shell.execute_reply.started": "2021-12-21T20:14:52.977776Z",
          "shell.execute_reply": "2021-12-21T20:14:54.727696Z"
        },
        "trusted": true,
        "colab": {
          "base_uri": "https://localhost:8080/",
          "height": 206
        },
        "id": "UXCgG_4-EW_G",
        "outputId": "78ed96c1-224b-4773-b9dc-a8b10b34c9a2"
      },
      "execution_count": null,
      "outputs": [
        {
          "output_type": "execute_result",
          "data": {
            "text/plain": [
              "                                              review sentiment\n",
              "0  One of the other reviewers has mentioned that ...  positive\n",
              "1  A wonderful little production. <br /><br />The...  positive\n",
              "2  I thought this was a wonderful way to spend ti...  positive\n",
              "3  Basically there's a family where a little boy ...  negative\n",
              "4  Petter Mattei's \"Love in the Time of Money\" is...  positive"
            ],
            "text/html": [
              "\n",
              "  <div id=\"df-84dce13e-eedb-4fed-bfd8-e53ed3518ecc\">\n",
              "    <div class=\"colab-df-container\">\n",
              "      <div>\n",
              "<style scoped>\n",
              "    .dataframe tbody tr th:only-of-type {\n",
              "        vertical-align: middle;\n",
              "    }\n",
              "\n",
              "    .dataframe tbody tr th {\n",
              "        vertical-align: top;\n",
              "    }\n",
              "\n",
              "    .dataframe thead th {\n",
              "        text-align: right;\n",
              "    }\n",
              "</style>\n",
              "<table border=\"1\" class=\"dataframe\">\n",
              "  <thead>\n",
              "    <tr style=\"text-align: right;\">\n",
              "      <th></th>\n",
              "      <th>review</th>\n",
              "      <th>sentiment</th>\n",
              "    </tr>\n",
              "  </thead>\n",
              "  <tbody>\n",
              "    <tr>\n",
              "      <th>0</th>\n",
              "      <td>One of the other reviewers has mentioned that ...</td>\n",
              "      <td>positive</td>\n",
              "    </tr>\n",
              "    <tr>\n",
              "      <th>1</th>\n",
              "      <td>A wonderful little production. &lt;br /&gt;&lt;br /&gt;The...</td>\n",
              "      <td>positive</td>\n",
              "    </tr>\n",
              "    <tr>\n",
              "      <th>2</th>\n",
              "      <td>I thought this was a wonderful way to spend ti...</td>\n",
              "      <td>positive</td>\n",
              "    </tr>\n",
              "    <tr>\n",
              "      <th>3</th>\n",
              "      <td>Basically there's a family where a little boy ...</td>\n",
              "      <td>negative</td>\n",
              "    </tr>\n",
              "    <tr>\n",
              "      <th>4</th>\n",
              "      <td>Petter Mattei's \"Love in the Time of Money\" is...</td>\n",
              "      <td>positive</td>\n",
              "    </tr>\n",
              "  </tbody>\n",
              "</table>\n",
              "</div>\n",
              "      <button class=\"colab-df-convert\" onclick=\"convertToInteractive('df-84dce13e-eedb-4fed-bfd8-e53ed3518ecc')\"\n",
              "              title=\"Convert this dataframe to an interactive table.\"\n",
              "              style=\"display:none;\">\n",
              "        \n",
              "  <svg xmlns=\"http://www.w3.org/2000/svg\" height=\"24px\"viewBox=\"0 0 24 24\"\n",
              "       width=\"24px\">\n",
              "    <path d=\"M0 0h24v24H0V0z\" fill=\"none\"/>\n",
              "    <path d=\"M18.56 5.44l.94 2.06.94-2.06 2.06-.94-2.06-.94-.94-2.06-.94 2.06-2.06.94zm-11 1L8.5 8.5l.94-2.06 2.06-.94-2.06-.94L8.5 2.5l-.94 2.06-2.06.94zm10 10l.94 2.06.94-2.06 2.06-.94-2.06-.94-.94-2.06-.94 2.06-2.06.94z\"/><path d=\"M17.41 7.96l-1.37-1.37c-.4-.4-.92-.59-1.43-.59-.52 0-1.04.2-1.43.59L10.3 9.45l-7.72 7.72c-.78.78-.78 2.05 0 2.83L4 21.41c.39.39.9.59 1.41.59.51 0 1.02-.2 1.41-.59l7.78-7.78 2.81-2.81c.8-.78.8-2.07 0-2.86zM5.41 20L4 18.59l7.72-7.72 1.47 1.35L5.41 20z\"/>\n",
              "  </svg>\n",
              "      </button>\n",
              "      \n",
              "  <style>\n",
              "    .colab-df-container {\n",
              "      display:flex;\n",
              "      flex-wrap:wrap;\n",
              "      gap: 12px;\n",
              "    }\n",
              "\n",
              "    .colab-df-convert {\n",
              "      background-color: #E8F0FE;\n",
              "      border: none;\n",
              "      border-radius: 50%;\n",
              "      cursor: pointer;\n",
              "      display: none;\n",
              "      fill: #1967D2;\n",
              "      height: 32px;\n",
              "      padding: 0 0 0 0;\n",
              "      width: 32px;\n",
              "    }\n",
              "\n",
              "    .colab-df-convert:hover {\n",
              "      background-color: #E2EBFA;\n",
              "      box-shadow: 0px 1px 2px rgba(60, 64, 67, 0.3), 0px 1px 3px 1px rgba(60, 64, 67, 0.15);\n",
              "      fill: #174EA6;\n",
              "    }\n",
              "\n",
              "    [theme=dark] .colab-df-convert {\n",
              "      background-color: #3B4455;\n",
              "      fill: #D2E3FC;\n",
              "    }\n",
              "\n",
              "    [theme=dark] .colab-df-convert:hover {\n",
              "      background-color: #434B5C;\n",
              "      box-shadow: 0px 1px 3px 1px rgba(0, 0, 0, 0.15);\n",
              "      filter: drop-shadow(0px 1px 2px rgba(0, 0, 0, 0.3));\n",
              "      fill: #FFFFFF;\n",
              "    }\n",
              "  </style>\n",
              "\n",
              "      <script>\n",
              "        const buttonEl =\n",
              "          document.querySelector('#df-84dce13e-eedb-4fed-bfd8-e53ed3518ecc button.colab-df-convert');\n",
              "        buttonEl.style.display =\n",
              "          google.colab.kernel.accessAllowed ? 'block' : 'none';\n",
              "\n",
              "        async function convertToInteractive(key) {\n",
              "          const element = document.querySelector('#df-84dce13e-eedb-4fed-bfd8-e53ed3518ecc');\n",
              "          const dataTable =\n",
              "            await google.colab.kernel.invokeFunction('convertToInteractive',\n",
              "                                                     [key], {});\n",
              "          if (!dataTable) return;\n",
              "\n",
              "          const docLinkHtml = 'Like what you see? Visit the ' +\n",
              "            '<a target=\"_blank\" href=https://colab.research.google.com/notebooks/data_table.ipynb>data table notebook</a>'\n",
              "            + ' to learn more about interactive tables.';\n",
              "          element.innerHTML = '';\n",
              "          dataTable['output_type'] = 'display_data';\n",
              "          await google.colab.output.renderOutput(dataTable, element);\n",
              "          const docLink = document.createElement('div');\n",
              "          docLink.innerHTML = docLinkHtml;\n",
              "          element.appendChild(docLink);\n",
              "        }\n",
              "      </script>\n",
              "    </div>\n",
              "  </div>\n",
              "  "
            ]
          },
          "metadata": {},
          "execution_count": 3
        }
      ]
    },
    {
      "cell_type": "markdown",
      "source": [
        "### Splitting to train and test data\n",
        "\n",
        "We will split data to train and test initially.Doing this on earlier stage allows to avoid data lekage."
      ],
      "metadata": {
        "id": "g75vejAXEW_I"
      }
    },
    {
      "cell_type": "code",
      "source": [
        "X, y = df['review'].values, df['sentiment'].values\n",
        "\n",
        "x_train, x_test, y_train, y_test = train_test_split(X, y, test_size=0.25, stratify=y)\n",
        "print(f'shape of train data is {x_train.shape}')\n",
        "print(f'shape of test data is {x_test.shape}')"
      ],
      "metadata": {
        "execution": {
          "iopub.status.busy": "2021-12-21T20:14:54.730384Z",
          "iopub.execute_input": "2021-12-21T20:14:54.731144Z",
          "iopub.status.idle": "2021-12-21T20:14:54.815325Z",
          "shell.execute_reply.started": "2021-12-21T20:14:54.731106Z",
          "shell.execute_reply": "2021-12-21T20:14:54.81469Z"
        },
        "trusted": true,
        "id": "J1Nhpa1VEW_K",
        "colab": {
          "base_uri": "https://localhost:8080/"
        },
        "outputId": "5baef059-d4cc-48cf-b921-8b812e715a25"
      },
      "execution_count": null,
      "outputs": [
        {
          "output_type": "stream",
          "name": "stdout",
          "text": [
            "shape of train data is (37500,)\n",
            "shape of test data is (12500,)\n"
          ]
        }
      ]
    },
    {
      "cell_type": "markdown",
      "source": [
        "#### Analyzing Sentiment"
      ],
      "metadata": {
        "id": "ZDJvI5d_EW_M"
      }
    },
    {
      "cell_type": "code",
      "source": [
        "dd = pd.Series(y_train).value_counts()\n",
        "sns.barplot(x=np.array(['negative', 'positive']), y=dd.values)\n",
        "plt.show()"
      ],
      "metadata": {
        "execution": {
          "iopub.status.busy": "2021-12-21T20:14:54.81647Z",
          "iopub.execute_input": "2021-12-21T20:14:54.816719Z",
          "iopub.status.idle": "2021-12-21T20:14:55.00137Z",
          "shell.execute_reply.started": "2021-12-21T20:14:54.816684Z",
          "shell.execute_reply": "2021-12-21T20:14:55.000656Z"
        },
        "trusted": true,
        "id": "8_W-rYfzEW_M",
        "colab": {
          "base_uri": "https://localhost:8080/",
          "height": 265
        },
        "outputId": "df568dc1-13ad-43fd-c775-03e679d5796b"
      },
      "execution_count": null,
      "outputs": [
        {
          "output_type": "display_data",
          "data": {
            "text/plain": [
              "<Figure size 432x288 with 1 Axes>"
            ],
            "image/png": "[encoded data removed]"
          },
          "metadata": {
            "needs_background": "light"
          }
        }
      ]
    },
    {
      "cell_type": "markdown",
      "source": [
        "### Tokenization"
      ],
      "metadata": {
        "id": "nydxTbgpEW_N"
      }
    },
    {
      "cell_type": "code",
      "source": [
        "def preprocess_string(s):\n",
        "    # Remove all non-word characters (everything except numbers and letters)\n",
        "    s = re.sub(r\"[^\\w\\s]\", '', s)\n",
        "    # Replace all runs of whitespaces with no space\n",
        "    s = re.sub(r\"\\s+\", '', s)\n",
        "    # replace digits with no space\n",
        "    s = re.sub(r\"\\d\", '', s)\n",
        "    return s\n",
        "\n",
        "\n",
        "def tokenize(x_train, y_train, x_val, y_val):\n",
        "    word_list = []\n",
        "\n",
        "    stop_words = set(stopwords.words('english')) \n",
        "    \n",
        "    for sent in x_train:\n",
        "        for word in sent.lower().split():\n",
        "            word = preprocess_string(word)\n",
        "            if word not in stop_words and word != '':\n",
        "                word_list.append(word)\n",
        "                \n",
        "    corpus = Counter(word_list)\n",
        "    print(corpus.get)\n",
        "    # sorting on the basis of most common words\n",
        "    corpus_ = sorted(corpus, key=corpus.get, reverse=True)[:1000]\n",
        "    \n",
        "    # creating a dict\n",
        "    onehot_dict = {w:i+1 for i,w in enumerate(corpus_)}\n",
        "    \n",
        "    # tokenize\n",
        "    final_list_train,final_list_test = [],[]\n",
        "    \n",
        "    for sent in x_train:\n",
        "            final_list_train.append([onehot_dict[preprocess_string(word)] for word in sent.lower().split() \n",
        "                                     if preprocess_string(word) in onehot_dict.keys()])\n",
        "    for sent in x_val:\n",
        "            final_list_test.append([onehot_dict[preprocess_string(word)] for word in sent.lower().split() \n",
        "                                    if preprocess_string(word) in onehot_dict.keys()])\n",
        "            \n",
        "    encoded_train = [1 if label =='positive' else 0 for label in y_train]  \n",
        "    encoded_test = [1 if label =='positive' else 0 for label in y_val] \n",
        "    return np.array(final_list_train), np.array(encoded_train),np.array(final_list_test), np.array(encoded_test),onehot_dict"
      ],
      "metadata": {
        "execution": {
          "iopub.status.busy": "2021-12-21T20:14:55.002544Z",
          "iopub.execute_input": "2021-12-21T20:14:55.002779Z",
          "iopub.status.idle": "2021-12-21T20:14:55.016894Z",
          "shell.execute_reply.started": "2021-12-21T20:14:55.002736Z",
          "shell.execute_reply": "2021-12-21T20:14:55.016097Z"
        },
        "trusted": true,
        "id": "TJW0M6NdEW_O"
      },
      "execution_count": null,
      "outputs": []
    },
    {
      "cell_type": "code",
      "source": [
        "x_train, y_train, x_test, y_test, vocab = tokenize(x_train, y_train, x_test, y_test)"
      ],
      "metadata": {
        "execution": {
          "iopub.status.busy": "2021-12-21T20:14:55.019074Z",
          "iopub.execute_input": "2021-12-21T20:14:55.01976Z",
          "iopub.status.idle": "2021-12-21T20:16:33.150791Z",
          "shell.execute_reply.started": "2021-12-21T20:14:55.019656Z",
          "shell.execute_reply": "2021-12-21T20:16:33.14994Z"
        },
        "trusted": true,
        "id": "SR672s1LEW_Q",
        "colab": {
          "base_uri": "https://localhost:8080/"
        },
        "outputId": "85cdad59-f071-4f0a-cb14-e8a01e0edbf2"
      },
      "execution_count": null,
      "outputs": [
        {
          "output_type": "stream",
          "name": "stdout",
          "text": [
            "<built-in method get of Counter object at 0x7fcc7efce8f0>\n"
          ]
        },
        {
          "output_type": "stream",
          "name": "stderr",
          "text": [
            "/usr/local/lib/python3.7/dist-packages/ipykernel_launcher.py:42: VisibleDeprecationWarning: Creating an ndarray from ragged nested sequences (which is a list-or-tuple of lists-or-tuples-or ndarrays with different lengths or shapes) is deprecated. If you meant to do this, you must specify 'dtype=object' when creating the ndarray.\n"
          ]
        }
      ]
    },
    {
      "cell_type": "code",
      "source": [
        "print(f'Length of vocabulary is {len(vocab)}')"
      ],
      "metadata": {
        "execution": {
          "iopub.status.busy": "2021-12-21T20:16:33.15228Z",
          "iopub.execute_input": "2021-12-21T20:16:33.15254Z",
          "iopub.status.idle": "2021-12-21T20:16:33.157748Z",
          "shell.execute_reply.started": "2021-12-21T20:16:33.152506Z",
          "shell.execute_reply": "2021-12-21T20:16:33.156795Z"
        },
        "trusted": true,
        "id": "kGOAcza9EW_R",
        "colab": {
          "base_uri": "https://localhost:8080/"
        },
        "outputId": "17066311-5e12-4b54-d022-73f81b9bc5c2"
      },
      "execution_count": null,
      "outputs": [
        {
          "output_type": "stream",
          "name": "stdout",
          "text": [
            "Length of vocabulary is 1000\n"
          ]
        }
      ]
    },
    {
      "cell_type": "markdown",
      "source": [
        "#### Analyzing Review length"
      ],
      "metadata": {
        "id": "5Be2-cQjEW_R"
      }
    },
    {
      "cell_type": "code",
      "source": [
        "rev_length = [len(i) for i in x_train]\n",
        "pd.Series(rev_length).hist()\n",
        "plt.show()\n",
        "\n",
        "pd.Series(rev_length).describe()"
      ],
      "metadata": {
        "execution": {
          "iopub.status.busy": "2021-12-21T20:16:33.159271Z",
          "iopub.execute_input": "2021-12-21T20:16:33.159641Z",
          "iopub.status.idle": "2021-12-21T20:16:33.417535Z",
          "shell.execute_reply.started": "2021-12-21T20:16:33.159598Z",
          "shell.execute_reply": "2021-12-21T20:16:33.416775Z"
        },
        "trusted": true,
        "id": "S6JLrqpGEW_S",
        "colab": {
          "base_uri": "https://localhost:8080/",
          "height": 421
        },
        "outputId": "c7b3219f-7cb3-4f49-bd5b-f16190948cd1"
      },
      "execution_count": null,
      "outputs": [
        {
          "output_type": "display_data",
          "data": {
            "text/plain": [
              "<Figure size 432x288 with 1 Axes>"
            ],
            "image/png": "[encoded data removed]"
          },
          "metadata": {
            "needs_background": "light"
          }
        },
        {
          "output_type": "execute_result",
          "data": {
            "text/plain": [
              "count    37500.000000\n",
              "mean        69.148533\n",
              "std         48.149146\n",
              "min          0.000000\n",
              "25%         39.000000\n",
              "50%         54.000000\n",
              "75%         84.000000\n",
              "max        652.000000\n",
              "dtype: float64"
            ]
          },
          "metadata": {},
          "execution_count": 9
        }
      ]
    },
    {
      "cell_type": "markdown",
      "source": [
        "Observations :\n",
        "\n",
        "a) Mean review length = around 69.\n",
        "\n",
        "b) minimum length of reviews is 2.\n",
        "\n",
        "c) There are quite a few reviews that are extremely long, we can manually investigate them to check whether we need to include or exclude them from our analysis"
      ],
      "metadata": {
        "id": "VIJ9Mq_SEW_V"
      }
    },
    {
      "cell_type": "markdown",
      "source": [
        "### Padding\n",
        "\n",
        "Now we will pad each of the sequence to max length"
      ],
      "metadata": {
        "id": "wCTyEo5SEW_W"
      }
    },
    {
      "cell_type": "code",
      "source": [
        "def padding_(sentences, seq_len):\n",
        "    features = np.zeros((len(sentences), seq_len),dtype=int)\n",
        "    for ii, review in enumerate(sentences):\n",
        "        if len(review)!=0:\n",
        "            features[ii, -len(review):] = np.array(review)[:seq_len]\n",
        "        \n",
        "    return features"
      ],
      "metadata": {
        "execution": {
          "iopub.status.busy": "2021-12-21T20:16:33.420523Z",
          "iopub.execute_input": "2021-12-21T20:16:33.420983Z",
          "iopub.status.idle": "2021-12-21T20:16:33.427011Z",
          "shell.execute_reply.started": "2021-12-21T20:16:33.420939Z",
          "shell.execute_reply": "2021-12-21T20:16:33.426209Z"
        },
        "trusted": true,
        "id": "juQzzminEW_X"
      },
      "execution_count": null,
      "outputs": []
    },
    {
      "cell_type": "code",
      "source": [
        "#we have very less number of reviews with length > 500.\n",
        "#So we will consideronly those below it.\n",
        "x_train_pad = padding_(x_train,500)\n",
        "x_test_pad = padding_(x_test,500)"
      ],
      "metadata": {
        "execution": {
          "iopub.status.busy": "2021-12-21T20:16:33.428205Z",
          "iopub.execute_input": "2021-12-21T20:16:33.429144Z",
          "iopub.status.idle": "2021-12-21T20:16:34.376651Z",
          "shell.execute_reply.started": "2021-12-21T20:16:33.429095Z",
          "shell.execute_reply": "2021-12-21T20:16:34.375907Z"
        },
        "trusted": true,
        "id": "oT8zfziiEW_Z"
      },
      "execution_count": null,
      "outputs": []
    },
    {
      "cell_type": "code",
      "source": [
        "x_train_pad.shape"
      ],
      "metadata": {
        "id": "q6m7l6czooeW",
        "colab": {
          "base_uri": "https://localhost:8080/"
        },
        "outputId": "e09ee8e7-0cc9-484a-936c-d85f228d5ffe"
      },
      "execution_count": null,
      "outputs": [
        {
          "output_type": "execute_result",
          "data": {
            "text/plain": [
              "(37500, 500)"
            ]
          },
          "metadata": {},
          "execution_count": 12
        }
      ]
    },
    {
      "cell_type": "markdown",
      "source": [
        "#### Batching and loading as tensor"
      ],
      "metadata": {
        "id": "VlGnh-ZeEW_b"
      }
    },
    {
      "cell_type": "code",
      "source": [
        "# create Tensor datasets\n",
        "\n",
        "train_data = TensorDataset(torch.from_numpy(x_train_pad), torch.from_numpy(y_train))\n",
        "valid_data = TensorDataset(torch.from_numpy(x_test_pad), torch.from_numpy(y_test))\n",
        "\n",
        "# dataloaders\n",
        "batch_size = 50\n",
        "\n",
        "train_loader = DataLoader(train_data, shuffle=True, batch_size=batch_size)\n",
        "valid_loader = DataLoader(valid_data, shuffle=True, batch_size=batch_size)"
      ],
      "metadata": {
        "execution": {
          "iopub.status.busy": "2021-12-21T20:16:34.378082Z",
          "iopub.execute_input": "2021-12-21T20:16:34.378335Z",
          "iopub.status.idle": "2021-12-21T20:16:34.387533Z",
          "shell.execute_reply.started": "2021-12-21T20:16:34.3783Z",
          "shell.execute_reply": "2021-12-21T20:16:34.386704Z"
        },
        "trusted": true,
        "id": "C7qgIZcuEW_c"
      },
      "execution_count": null,
      "outputs": []
    },
    {
      "cell_type": "code",
      "source": [
        "# obtain one batch of training data\n",
        "dataiter = iter(train_loader)\n",
        "sample_x, sample_y = dataiter.next()\n",
        "\n",
        "print('Sample input size: ', sample_x.size()) # batch_size, seq_length\n",
        "print('Sample input: \\n', sample_x)\n",
        "print('Sample input: \\n', sample_y)"
      ],
      "metadata": {
        "execution": {
          "iopub.status.busy": "2021-12-21T20:16:34.39069Z",
          "iopub.execute_input": "2021-12-21T20:16:34.390941Z",
          "iopub.status.idle": "2021-12-21T20:16:34.441307Z",
          "shell.execute_reply.started": "2021-12-21T20:16:34.390915Z",
          "shell.execute_reply": "2021-12-21T20:16:34.440477Z"
        },
        "trusted": true,
        "id": "1rE1ZGSfEW_d",
        "colab": {
          "base_uri": "https://localhost:8080/"
        },
        "outputId": "0b67a765-11ef-4d6e-ef2d-a8817d871fd9"
      },
      "execution_count": null,
      "outputs": [
        {
          "output_type": "stream",
          "name": "stdout",
          "text": [
            "Sample input size:  torch.Size([50, 500])\n",
            "Sample input: \n",
            " tensor([[  0,   0,   0,  ...,  75, 620, 493],\n",
            "        [  0,   0,   0,  ...,  13, 162, 657],\n",
            "        [  0,   0,   0,  ..., 218, 592, 345],\n",
            "        ...,\n",
            "        [  0,   0,   0,  ..., 179, 699,   2],\n",
            "        [  0,   0,   0,  ..., 432, 555, 136],\n",
            "        [  0,   0,   0,  ...,  13, 796,  23]])\n",
            "Sample input: \n",
            " tensor([0, 1, 1, 1, 1, 0, 1, 0, 1, 0, 0, 1, 1, 0, 1, 1, 0, 1, 1, 0, 0, 0, 0, 0,\n",
            "        1, 0, 0, 1, 0, 0, 1, 1, 0, 1, 1, 0, 1, 0, 1, 0, 0, 0, 0, 1, 1, 0, 0, 0,\n",
            "        1, 0])\n"
          ]
        }
      ]
    },
    {
      "cell_type": "markdown",
      "source": [
        "### Model"
      ],
      "metadata": {
        "id": "R7Tk5FI4EW_d"
      }
    },
    {
      "cell_type": "code",
      "source": [
        "class SentimentRNN(nn.Module):\n",
        "    def __init__(self, no_layers, vocab_size, hidden_dim, embedding_dim, drop_prob=0.5):\n",
        "        super(SentimentRNN, self).__init__()\n",
        "        \n",
        "        self.output_dim = output_dim\n",
        "        self.hidden_dim = hidden_dim\n",
        "        \n",
        "        self.no_layers = no_layers\n",
        "        self.vocab_size = vocab_size\n",
        "        \n",
        "        # embedding and LSTM layers\n",
        "        self.embedding = nn.Embedding(vocab_size, embedding_dim)\n",
        "        \n",
        "        # LSTM\n",
        "        self.lstm = nn.LSTM(input_size=embedding_dim, \n",
        "                           hidden_size=self.hidden_dim,\n",
        "                           num_layers=no_layers,\n",
        "                           batch_first=True)\n",
        "        \n",
        "        # dropout layer\n",
        "        self.dropout = nn.Dropout(0.3)\n",
        "        \n",
        "        # linear and sigmoid layer\n",
        "        self.fc = nn.Linear(self.hidden_dim, output_dim)\n",
        "        self.sig = nn.Sigmoid()\n",
        "        \n",
        "    def forward(self, x, hidden):\n",
        "        batch_size = x.size(0)\n",
        "        \n",
        "        # embedding and lstm_out\n",
        "        embeds = self.embedding(x)  # shape: B x S x Feature   since batch = True\n",
        "        #print(embeds.shape)  #[50, 500, 1000]\n",
        "        \n",
        "        lstm_out, hidden = self.lstm(embeds, hidden)\n",
        "        \n",
        "        lstm_out = lstm_out.contiguous().view(-1, self.hidden_dim)\n",
        "        \n",
        "         # dropout and fully connected layer\n",
        "        out = self.dropout(lstm_out)\n",
        "        out = self.fc(out)\n",
        "        \n",
        "        # sigmoid function\n",
        "        sig_out = self.sig(out)\n",
        "        \n",
        "        # reshape to be batch_size first\n",
        "        sig_out = sig_out.view(batch_size, -1)\n",
        "        \n",
        "        sig_out = sig_out[:, -1] # get last batch of labels\n",
        "        \n",
        "        # return last sigmoid output and hidden state\n",
        "        return sig_out, hidden\n",
        "    \n",
        "    def init_hidden(self, batch_size):\n",
        "        h0 = torch.zeros((self.no_layers, batch_size, self.hidden_dim)).to(device)\n",
        "        c0 = torch.zeros((self.no_layers, batch_size, self.hidden_dim)).to(device)\n",
        "        \n",
        "        hidden = (h0, c0)\n",
        "        return hidden"
      ],
      "metadata": {
        "execution": {
          "iopub.status.busy": "2021-12-21T20:16:34.442687Z",
          "iopub.execute_input": "2021-12-21T20:16:34.443014Z",
          "iopub.status.idle": "2021-12-21T20:16:34.455327Z",
          "shell.execute_reply.started": "2021-12-21T20:16:34.442978Z",
          "shell.execute_reply": "2021-12-21T20:16:34.454607Z"
        },
        "trusted": true,
        "id": "oPfeteduEW_e"
      },
      "execution_count": null,
      "outputs": []
    },
    {
      "cell_type": "code",
      "source": [
        "no_layers = 3\n",
        "vocab_size = len(vocab) + 1 #extra 1 for padding\n",
        "embedding_dim = 196\n",
        "output_dim = 1\n",
        "hidden_dim = 256\n",
        "\n",
        "model = SentimentRNN(no_layers,vocab_size,hidden_dim,embedding_dim,drop_prob=0.5)\n",
        "\n",
        "\n",
        "#moving to gpu\n",
        "model.to(device)\n",
        "\n",
        "print(model)"
      ],
      "metadata": {
        "execution": {
          "iopub.status.busy": "2021-12-21T20:16:34.456288Z",
          "iopub.execute_input": "2021-12-21T20:16:34.45647Z",
          "iopub.status.idle": "2021-12-21T20:16:37.930123Z",
          "shell.execute_reply.started": "2021-12-21T20:16:34.456448Z",
          "shell.execute_reply": "2021-12-21T20:16:37.929384Z"
        },
        "trusted": true,
        "id": "4gWJif1UEW_e",
        "colab": {
          "base_uri": "https://localhost:8080/"
        },
        "outputId": "27ea7714-b6e2-44eb-fdcc-a95f8ed740e7"
      },
      "execution_count": null,
      "outputs": [
        {
          "output_type": "stream",
          "name": "stdout",
          "text": [
            "SentimentRNN(\n",
            "  (embedding): Embedding(1001, 196)\n",
            "  (lstm): LSTM(196, 256, num_layers=3, batch_first=True)\n",
            "  (dropout): Dropout(p=0.3, inplace=False)\n",
            "  (fc): Linear(in_features=256, out_features=1, bias=True)\n",
            "  (sig): Sigmoid()\n",
            ")\n"
          ]
        }
      ]
    },
    {
      "cell_type": "markdown",
      "source": [
        "### Training"
      ],
      "metadata": {
        "id": "vqP7MPBLEW_f"
      }
    },
    {
      "cell_type": "code",
      "source": [
        "\n",
        "\n",
        "# loss and optimization functions\n",
        "lr=0.001\n",
        "\n",
        "criterion = nn.BCELoss()\n",
        "\n",
        "optimizer = torch.optim.Adam(model.parameters(), lr=lr)\n",
        "\n",
        "# function to predict accuracy\n",
        "def acc(pred, label):\n",
        "    pred = torch.round(pred.squeeze())\n",
        "    return torch.sum(pred==label.squeeze()).item()"
      ],
      "metadata": {
        "execution": {
          "iopub.status.busy": "2021-12-21T20:16:37.931251Z",
          "iopub.execute_input": "2021-12-21T20:16:37.931663Z",
          "iopub.status.idle": "2021-12-21T20:16:37.938794Z",
          "shell.execute_reply.started": "2021-12-21T20:16:37.931625Z",
          "shell.execute_reply": "2021-12-21T20:16:37.938036Z"
        },
        "trusted": true,
        "id": "a4JA1D6JEW_f"
      },
      "execution_count": null,
      "outputs": []
    },
    {
      "cell_type": "code",
      "source": [
        "clip = 5\n",
        "epochs = 5\n",
        "valid_loss_min = np.Inf\n",
        "# train for some number of epochs\n",
        "epoch_tr_loss,epoch_vl_loss = [],[]\n",
        "epoch_tr_acc,epoch_vl_acc = [],[]\n",
        "\n",
        "for epoch in range(epochs):\n",
        "    train_losses = []\n",
        "    train_acc = 0.0\n",
        "    \n",
        "    model.train()\n",
        "    \n",
        "    # initialize hidden state\n",
        "    h = model.init_hidden(batch_size)\n",
        "    \n",
        "    for inputs, labels in train_loader:\n",
        "        \n",
        "        inputs = inputs.to(device)\n",
        "        labels = labels.to(device)\n",
        "        \n",
        "        # Creating new variables for the hidden state, otherwise\n",
        "        # we'd backprop through the entire training history\n",
        "        h = tuple([each.data for each in h])\n",
        "        \n",
        "        model.zero_grad()\n",
        "        \n",
        "        output, h = model(inputs, h)\n",
        "        \n",
        "        # calculate the loss and perform backprop\n",
        "        loss = criterion(output.squeeze(), labels.float())\n",
        "        \n",
        "        loss.backward()\n",
        "        train_losses.append(loss.item())\n",
        "        \n",
        "        # calculating accuracy\n",
        "        accuracy = acc(output,labels)\n",
        "        train_acc += accuracy\n",
        "        #`clip_grad_norm` helps prevent the exploding gradient problem in RNNs / LSTMs.\n",
        "        nn.utils.clip_grad_norm_(model.parameters(), clip)\n",
        "        optimizer.step()\n",
        "        \n",
        "    val_h = model.init_hidden(batch_size)\n",
        "    val_losses = []\n",
        "    val_acc = 0.0\n",
        "    \n",
        "    model.eval()\n",
        "    \n",
        "    all_outputs = np.array([])\n",
        "    all_labels = np.array([])\n",
        "\n",
        "\n",
        "    for inputs, labels in valid_loader:\n",
        "        val_h = tuple([each.data for each in val_h])\n",
        "        \n",
        "        inputs, labels = inputs.to(device), labels.to(device)\n",
        "        all_labels = np.concatenate((all_labels, labels.cpu().detach().numpy()))\n",
        "        \n",
        "        output, val_h = model(inputs, val_h)\n",
        "        all_outputs = np.concatenate((all_outputs, np.rint(output.squeeze().cpu().detach().numpy())))\n",
        "        val_loss = criterion(output.squeeze(), labels.float())\n",
        "\n",
        "        val_losses.append(val_loss.item())\n",
        "\n",
        "        accuracy = acc(output,labels)\n",
        "        val_acc += accuracy\n",
        "            \n",
        "    print(\"Validation report\")\n",
        "    print(classification_report(all_labels , all_outputs))\n",
        "    \n",
        "    epoch_train_loss = np.mean(train_losses)\n",
        "    epoch_val_loss = np.mean(val_losses)\n",
        "    epoch_train_acc = train_acc/len(train_loader.dataset)\n",
        "    epoch_val_acc = val_acc/len(valid_loader.dataset)\n",
        "    epoch_tr_loss.append(epoch_train_loss)\n",
        "    epoch_vl_loss.append(epoch_val_loss)\n",
        "    epoch_tr_acc.append(epoch_train_acc)\n",
        "    epoch_vl_acc.append(epoch_val_acc)\n",
        "    print(f'Epoch {epoch+1}') \n",
        "    print(f'train_loss : {epoch_train_loss} val_loss : {epoch_val_loss}')\n",
        "    print(f'train_accuracy : {epoch_train_acc*100} val_accuracy : {epoch_val_acc*100}')\n",
        "    if epoch_val_loss <= valid_loss_min:\n",
        "        torch.save(model.state_dict(), './state_dict.pt')\n",
        "        print('Validation loss decreased ({:.6f} --> {:.6f}).  Saving model ...'.format(valid_loss_min,epoch_val_loss))\n",
        "        valid_loss_min = epoch_val_loss\n",
        "    print(25*'==')"
      ],
      "metadata": {
        "execution": {
          "iopub.status.busy": "2021-12-21T20:19:11.265592Z",
          "iopub.execute_input": "2021-12-21T20:19:11.265857Z",
          "iopub.status.idle": "2021-12-21T20:24:24.398047Z",
          "shell.execute_reply.started": "2021-12-21T20:19:11.265826Z",
          "shell.execute_reply": "2021-12-21T20:24:24.39731Z"
        },
        "trusted": true,
        "id": "nOW898fxEW_g",
        "colab": {
          "base_uri": "https://localhost:8080/"
        },
        "outputId": "2354a2cc-c8b5-4de8-f43e-dde29342c1aa"
      },
      "execution_count": null,
      "outputs": [
        {
          "output_type": "stream",
          "name": "stdout",
          "text": [
            "Validation report\n",
            "              precision    recall  f1-score   support\n",
            "\n",
            "         0.0       0.83      0.86      0.84      6250\n",
            "         1.0       0.86      0.82      0.84      6250\n",
            "\n",
            "    accuracy                           0.84     12500\n",
            "   macro avg       0.84      0.84      0.84     12500\n",
            "weighted avg       0.84      0.84      0.84     12500\n",
            "\n",
            "Epoch 1\n",
            "train_loss : 0.47884197503328324 val_loss : 0.37902021551132203\n",
            "train_accuracy : 77.41066666666667 val_accuracy : 83.976\n",
            "Validation loss decreased (inf --> 0.379020).  Saving model ...\n",
            "==================================================\n",
            "Validation report\n",
            "              precision    recall  f1-score   support\n",
            "\n",
            "         0.0       0.86      0.84      0.85      6250\n",
            "         1.0       0.85      0.87      0.86      6250\n",
            "\n",
            "    accuracy                           0.85     12500\n",
            "   macro avg       0.85      0.85      0.85     12500\n",
            "weighted avg       0.85      0.85      0.85     12500\n",
            "\n",
            "Epoch 2\n",
            "train_loss : 0.3579143083691597 val_loss : 0.3370497041344643\n",
            "train_accuracy : 84.904 val_accuracy : 85.47200000000001\n",
            "Validation loss decreased (0.379020 --> 0.337050).  Saving model ...\n",
            "==================================================\n",
            "Validation report\n",
            "              precision    recall  f1-score   support\n",
            "\n",
            "         0.0       0.90      0.79      0.84      6250\n",
            "         1.0       0.82      0.91      0.86      6250\n",
            "\n",
            "    accuracy                           0.85     12500\n",
            "   macro avg       0.86      0.85      0.85     12500\n",
            "weighted avg       0.86      0.85      0.85     12500\n",
            "\n",
            "Epoch 3\n",
            "train_loss : 0.3117563583950202 val_loss : 0.35234632062911986\n",
            "train_accuracy : 87.02666666666666 val_accuracy : 85.36\n",
            "==================================================\n",
            "Validation report\n",
            "              precision    recall  f1-score   support\n",
            "\n",
            "         0.0       0.87      0.85      0.86      6250\n",
            "         1.0       0.85      0.88      0.86      6250\n",
            "\n",
            "    accuracy                           0.86     12500\n",
            "   macro avg       0.86      0.86      0.86     12500\n",
            "weighted avg       0.86      0.86      0.86     12500\n",
            "\n",
            "Epoch 4\n",
            "train_loss : 0.2740497560898463 val_loss : 0.3282766053378582\n",
            "train_accuracy : 88.73066666666666 val_accuracy : 86.21600000000001\n",
            "Validation loss decreased (0.337050 --> 0.328277).  Saving model ...\n",
            "==================================================\n",
            "Validation report\n",
            "              precision    recall  f1-score   support\n",
            "\n",
            "         0.0       0.87      0.84      0.85      6250\n",
            "         1.0       0.84      0.88      0.86      6250\n",
            "\n",
            "    accuracy                           0.86     12500\n",
            "   macro avg       0.86      0.86      0.86     12500\n",
            "weighted avg       0.86      0.86      0.86     12500\n",
            "\n",
            "Epoch 5\n",
            "train_loss : 0.21943742471933364 val_loss : 0.35760087430477144\n",
            "train_accuracy : 91.208 val_accuracy : 85.64\n",
            "==================================================\n",
            "Validation report\n",
            "              precision    recall  f1-score   support\n",
            "\n",
            "         0.0       0.86      0.85      0.86      6250\n",
            "         1.0       0.85      0.86      0.86      6250\n",
            "\n",
            "    accuracy                           0.86     12500\n",
            "   macro avg       0.86      0.86      0.86     12500\n",
            "weighted avg       0.86      0.86      0.86     12500\n",
            "\n",
            "Epoch 6\n",
            "train_loss : 0.1547392629161477 val_loss : 0.44554930514097213\n",
            "train_accuracy : 94.136 val_accuracy : 85.576\n",
            "==================================================\n",
            "Validation report\n",
            "              precision    recall  f1-score   support\n",
            "\n",
            "         0.0       0.84      0.86      0.85      6250\n",
            "         1.0       0.86      0.83      0.84      6250\n",
            "\n",
            "    accuracy                           0.85     12500\n",
            "   macro avg       0.85      0.85      0.85     12500\n",
            "weighted avg       0.85      0.85      0.85     12500\n",
            "\n",
            "Epoch 7\n",
            "train_loss : 0.08969796303659677 val_loss : 0.46947054788470266\n",
            "train_accuracy : 96.86666666666667 val_accuracy : 84.664\n",
            "==================================================\n"
          ]
        }
      ]
    },
    {
      "cell_type": "code",
      "source": [
        "fig = plt.figure(figsize=(10, 6))\n",
        "\n",
        "plt.subplot(1, 2, 1)\n",
        "plt.plot(epoch_tr_acc, label='Train Acc')\n",
        "plt.plot(epoch_vl_acc, label='Validation Acc')\n",
        "plt.title(\"Accuracy\")\n",
        "plt.legend()\n",
        "plt.grid()\n",
        "\n",
        "plt.subplot(1, 2, 2)\n",
        "plt.plot(epoch_tr_loss, label='Train loss')\n",
        "plt.plot(epoch_vl_loss, label='Validation loss')\n",
        "plt.title(\"Loss\")\n",
        "plt.legend()\n",
        "plt.grid()\n",
        "\n",
        "plt.show()"
      ],
      "metadata": {
        "execution": {
          "iopub.status.busy": "2021-12-21T20:25:05.216732Z",
          "iopub.execute_input": "2021-12-21T20:25:05.217252Z",
          "iopub.status.idle": "2021-12-21T20:25:05.734316Z",
          "shell.execute_reply.started": "2021-12-21T20:25:05.217205Z",
          "shell.execute_reply": "2021-12-21T20:25:05.733583Z"
        },
        "trusted": true,
        "id": "8YaJar7AEW_h",
        "colab": {
          "base_uri": "https://localhost:8080/",
          "height": 390
        },
        "outputId": "c53b4c02-d2f0-4914-9197-64d8bda90c69"
      },
      "execution_count": null,
      "outputs": [
        {
          "output_type": "display_data",
          "data": {
            "text/plain": [
              "<Figure size 720x432 with 2 Axes>"
            ],
            "image/png": "[encoded data removed]"
          },
          "metadata": {
            "needs_background": "light"
          }
        }
      ]
    },
    {
      "cell_type": "markdown",
      "source": [
        "### Inference"
      ],
      "metadata": {
        "id": "ZmW76tyfEW_i"
      }
    },
    {
      "cell_type": "code",
      "source": [
        "def predict_text(text):\n",
        "        word_seq = np.array([vocab[preprocess_string(word)] for word in text.split() \n",
        "                         if preprocess_string(word) in vocab.keys()])\n",
        "        word_seq = np.expand_dims(word_seq,axis=0)\n",
        "        pad =  torch.from_numpy(padding_(word_seq,500))\n",
        "        inputs = pad.to(device)\n",
        "        batch_size = 1\n",
        "        h = model.init_hidden(batch_size)\n",
        "        h = tuple([each.data for each in h])\n",
        "        output, h = model(inputs, h)\n",
        "        return(output.item())"
      ],
      "metadata": {
        "execution": {
          "iopub.status.busy": "2021-12-21T20:25:12.438983Z",
          "iopub.execute_input": "2021-12-21T20:25:12.439431Z",
          "iopub.status.idle": "2021-12-21T20:25:12.446279Z",
          "shell.execute_reply.started": "2021-12-21T20:25:12.439395Z",
          "shell.execute_reply": "2021-12-21T20:25:12.445139Z"
        },
        "trusted": true,
        "id": "6CCi5bzYEW_i"
      },
      "execution_count": null,
      "outputs": []
    },
    {
      "cell_type": "code",
      "source": [
        "predict_text(\"This series doesn't deserve to be listed in the top 1# or the 250 best shows because breaking bad is better+ fiction>nature.\")"
      ],
      "metadata": {
        "id": "0uqyUbNSEW_j",
        "colab": {
          "base_uri": "https://localhost:8080/"
        },
        "outputId": "50945b7d-8119-40a2-a7c2-a6a28c16cdbb"
      },
      "execution_count": null,
      "outputs": [
        {
          "output_type": "execute_result",
          "data": {
            "text/plain": [
              "0.6613699793815613"
            ]
          },
          "metadata": {},
          "execution_count": 21
        }
      ]
    }
  ]
}